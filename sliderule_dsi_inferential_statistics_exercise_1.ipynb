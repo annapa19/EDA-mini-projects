{
 "cells": [
  {
   "cell_type": "markdown",
   "metadata": {},
   "source": [
    "# What is the True Normal Human Body Temperature? \n",
    "\n",
    "#### Background\n",
    "\n",
    "The mean normal body temperature was held to be 37$^{\\circ}$C or 98.6$^{\\circ}$F for more than 120 years since it was first conceptualized and reported by Carl Wunderlich in a famous 1868 book. But, is this value statistically correct?"
   ]
  },
  {
   "cell_type": "markdown",
   "metadata": {},
   "source": [
    "<h3>Exercises</h3>\n",
    "\n",
    "<p>In this exercise, you will analyze a dataset of human body temperatures and employ the concepts of hypothesis testing, confidence intervals, and statistical significance.</p>\n",
    "\n",
    "<p>Answer the following questions <b>in this notebook below and submit to your Github account</b>.</p> \n",
    "\n",
    "<ol>\n",
    "<li>  Is the distribution of body temperatures normal? \n",
    "    <ul>\n",
    "    <li> Although this is not a requirement for the Central Limit Theorem to hold (read the introduction on Wikipedia's page about the CLT carefully: https://en.wikipedia.org/wiki/Central_limit_theorem), it gives us some peace of mind that the population may also be normally distributed if we assume that this sample is representative of the population.\n",
    "    <li> Think about the way you're going to check for the normality of the distribution. Graphical methods are usually used first, but there are also other ways: https://en.wikipedia.org/wiki/Normality_test\n",
    "    </ul>\n",
    "<li>  Is the sample size large? Are the observations independent?\n",
    "    <ul>\n",
    "    <li> Remember that this is a condition for the Central Limit Theorem, and hence the statistical tests we are using, to apply.\n",
    "    </ul>\n",
    "<li>  Is the true population mean really 98.6 degrees F?\n",
    "    <ul>\n",
    "    <li> First, try a bootstrap hypothesis test.\n",
    "    <li> Now, let's try frequentist statistical testing. Would you use a one-sample or two-sample test? Why?\n",
    "    <li> In this situation, is it appropriate to use the $t$ or $z$ statistic? \n",
    "    <li> Now try using the other test. How is the result be different? Why?\n",
    "    </ul>\n",
    "<li>  Draw a small sample of size 10 from the data and repeat both frequentist tests. \n",
    "    <ul>\n",
    "    <li> Which one is the correct one to use? \n",
    "    <li> What do you notice? What does this tell you about the difference in application of the $t$ and $z$ statistic?\n",
    "    </ul>\n",
    "<li>  At what temperature should we consider someone's temperature to be \"abnormal\"?\n",
    "    <ul>\n",
    "    <li> As in the previous example, try calculating everything using the boostrap approach, as well as the frequentist approach.\n",
    "    <li> Start by computing the margin of error and confidence interval. When calculating the confidence interval, keep in mind that you should use the appropriate formula for one draw, and not N draws.\n",
    "    </ul>\n",
    "<li>  Is there a significant difference between males and females in normal temperature?\n",
    "    <ul>\n",
    "    <li> What testing approach did you use and why?\n",
    "    <li> Write a story with your conclusion in the context of the original problem.\n",
    "    </ul>\n",
    "</ol>\n",
    "\n",
    "You can include written notes in notebook cells using Markdown: \n",
    "   - In the control panel at the top, choose Cell > Cell Type > Markdown\n",
    "   - Markdown syntax: http://nestacms.com/docs/creating-content/markdown-cheat-sheet\n",
    "\n",
    "#### Resources\n",
    "\n",
    "+ Information and data sources: http://www.amstat.org/publications/jse/datasets/normtemp.txt, http://www.amstat.org/publications/jse/jse_data_archive.htm\n",
    "+ Markdown syntax: http://nestacms.com/docs/creating-content/markdown-cheat-sheet\n",
    "\n",
    "****"
   ]
  },
  {
   "cell_type": "code",
   "execution_count": 1,
   "metadata": {},
   "outputs": [],
   "source": [
    "import pandas as pd\n",
    "\n",
    "df = pd.read_csv('data/human_body_temperature.csv')"
   ]
  },
  {
   "cell_type": "markdown",
   "metadata": {},
   "source": [
    "**1. Is the distribution of body temperatures normal?**"
   ]
  },
  {
   "cell_type": "code",
   "execution_count": 17,
   "metadata": {},
   "outputs": [],
   "source": [
    "import seaborn as sns\n",
    "import scipy.stats as stats\n",
    "import matplotlib.pyplot as plt\n",
    "import numpy as np"
   ]
  },
  {
   "cell_type": "code",
   "execution_count": 6,
   "metadata": {
    "scrolled": true
   },
   "outputs": [
    {
     "data": {
      "text/plain": [
       "<matplotlib.axes._subplots.AxesSubplot at 0x1a239002e8>"
      ]
     },
     "execution_count": 6,
     "metadata": {},
     "output_type": "execute_result"
    },
    {
     "data": {
      "image/png": "[encoded data removed]",
      "text/plain": [
       "<Figure size 432x288 with 1 Axes>"
      ]
     },
     "metadata": {
      "needs_background": "light"
     },
     "output_type": "display_data"
    }
   ],
   "source": [
    "sns.distplot(df.temperature, hist=True)"
   ]
  },
  {
   "cell_type": "code",
   "execution_count": 13,
   "metadata": {
    "scrolled": true
   },
   "outputs": [
    {
     "data": {
      "image/png": "[encoded data removed]",
      "text/plain": [
       "<Figure size 432x288 with 1 Axes>"
      ]
     },
     "metadata": {
      "needs_background": "light"
     },
     "output_type": "display_data"
    }
   ],
   "source": [
    "_=stats.probplot(df.temperature,plot=plt)\n",
    "plt.show()\n"
   ]
  },
  {
   "cell_type": "code",
   "execution_count": 128,
   "metadata": {
    "scrolled": true
   },
   "outputs": [
    {
     "data": {
      "text/plain": [
       "AndersonResult(statistic=0.5201038826714921, critical_values=array([0.56 , 0.637, 0.765, 0.892, 1.061]), significance_level=array([15. , 10. ,  5. ,  2.5,  1. ]))"
      ]
     },
     "execution_count": 128,
     "metadata": {},
     "output_type": "execute_result"
    }
   ],
   "source": [
    "stats.anderson(df.temperature)"
   ]
  },
  {
   "cell_type": "markdown",
   "metadata": {},
   "source": [
    "First, we use graphical methods such as a histogram and normal probability plot to test for the data's normality. The histogram shows us that the histogram does roughly resemble a bell shaped curve. The probability plot further confirms this since the data points plotted fall approximately on a straight line (with some outliers).\n",
    "\n",
    "Another way of checking is through the Anderson-Darling test which we can do using the scipy function scipy.stats.anderson. We see that our statistic, 0.52, is not higher than any of the critical values given which means we fail to reject the null that the distribution is normal."
   ]
  },
  {
   "cell_type": "markdown",
   "metadata": {},
   "source": [
    "**2) Is the sample size large? Are the observations independent?**"
   ]
  },
  {
   "cell_type": "markdown",
   "metadata": {},
   "source": [
    "n=130 does not seem like a large sample size considering that this study's main goal is to calculate the true normal **human** body temperature. This means the true population would quite literally be the world's population. \n",
    "\n",
    "Since the sampe size is <=10% of the popularion, we can assume independence among the observations."
   ]
  },
  {
   "cell_type": "markdown",
   "metadata": {},
   "source": [
    "**3) Is the true population mean really 98.6 degrees F?**"
   ]
  },
  {
   "cell_type": "markdown",
   "metadata": {},
   "source": [
    "*Testing using the boostrap hypothesis test*"
   ]
  },
  {
   "cell_type": "code",
   "execution_count": 30,
   "metadata": {},
   "outputs": [
    {
     "data": {
      "image/png": "[encoded data removed]",
      "text/plain": [
       "<Figure size 432x288 with 1 Axes>"
      ]
     },
     "metadata": {
      "needs_background": "light"
     },
     "output_type": "display_data"
    },
    {
     "data": {
      "text/plain": [
       "array([98.12230769, 98.37076923])"
      ]
     },
     "execution_count": 30,
     "metadata": {},
     "output_type": "execute_result"
    }
   ],
   "source": [
    "def bs_replicate(data,func):\n",
    "    bs_sample=np.random.choice(data,len(data))\n",
    "    return func(bs_sample)\n",
    "\n",
    "bs_replicates=np.empty(10000)\n",
    "\n",
    "for i in range(10000):\n",
    "    bs_replicates[i]=bs_replicate(df.temperature,np.mean)\n",
    "\n",
    "_=plt.hist(bs_replicates, bins=30)\n",
    "plt.show()\n",
    "\n",
    "np.percentile(bs_replicates, [2.5,97.5])"
   ]
  },
  {
   "cell_type": "markdown",
   "metadata": {},
   "source": [
    "Since 98.6 doesn't lie between the 95% confidence interval, we reject the null that the mean is 98.6"
   ]
  },
  {
   "cell_type": "code",
   "execution_count": 41,
   "metadata": {},
   "outputs": [
    {
     "data": {
      "text/plain": [
       "98.24923076923075"
      ]
     },
     "execution_count": 41,
     "metadata": {},
     "output_type": "execute_result"
    }
   ],
   "source": [
    "np.mean(df.temperature)"
   ]
  },
  {
   "cell_type": "markdown",
   "metadata": {},
   "source": [
    "*Do we use a one-sample or two-sample test?*\n",
    "\n",
    "Since we're only comparing one sample mean to the hypothesized population mean, we use a one-sample test."
   ]
  },
  {
   "cell_type": "markdown",
   "metadata": {},
   "source": [
    "*In this situation, is it appropriate to use the 𝑡 or 𝑧 statistic?*\n",
    "\n",
    "Since we don't know the population standard deviation, we use the t statistic"
   ]
  },
  {
   "cell_type": "code",
   "execution_count": 149,
   "metadata": {},
   "outputs": [
    {
     "name": "stdout",
     "output_type": "stream",
     "text": [
      "the t statistic is: -5.454823\n",
      "the p-value is: 0.0000002411\n",
      "we reject the null; the true mean population IS NOT 98.6\n"
     ]
    }
   ],
   "source": [
    "t,p = stats.ttest_1samp(df.temperature,98.6)\n",
    "\n",
    "print('the t statistic is: %f'%t)\n",
    "print('the p-value is: %.10f'%p)\n",
    "\n",
    "if p>0.01:\n",
    "    print ('we fail to reject the null; the true mean population IS 98.6')\n",
    "else:\n",
    "    print('we reject the null; the true mean population IS NOT 98.6')"
   ]
  },
  {
   "cell_type": "markdown",
   "metadata": {},
   "source": [
    "*Now try using the other test. How is the result be different? Why?*"
   ]
  },
  {
   "cell_type": "code",
   "execution_count": 150,
   "metadata": {},
   "outputs": [
    {
     "name": "stdout",
     "output_type": "stream",
     "text": [
      "the z score is: -5.454823\n",
      "the p-value is: 0.0000000490\n",
      "we reject the null; the true mean population IS NOT 98.6\n"
     ]
    }
   ],
   "source": [
    "from statsmodels.stats import weightstats as stests\n",
    "\n",
    "ztest ,pval = stests.ztest(df.temperature, x2=None, value=98.6)\n",
    "print('the z score is: %f'%ztest)\n",
    "print('the p-value is: %.10f'%pval)\n",
    "if pval>0.01:\n",
    "    print ('we fail to reject the null; the true mean population IS 98.6')\n",
    "else:\n",
    "    print('we reject the null; the true mean population IS NOT 98.6')"
   ]
  },
  {
   "cell_type": "markdown",
   "metadata": {},
   "source": [
    "We still end up rejecting the null. Even if we set alpha = .01, we still reject the null in both cases. This is because even if we don't know the population SD, the z test is still applicable since n>30, which means the sample standard deviation is a good indicator of the population SD."
   ]
  },
  {
   "cell_type": "markdown",
   "metadata": {},
   "source": [
    "**4) Draw a small sample of size 10 from the data and repeat both frequentist tests.**\n",
    "Which one is the correct one to use?\n",
    "What do you notice? What does this tell you about the difference in application of the  𝑡  and  𝑧  statistic?\n"
   ]
  },
  {
   "cell_type": "markdown",
   "metadata": {},
   "source": [
    "Draw a small sample of size 10 from the data and repeat both frequentist tests.\n",
    "Which one is the correct one to use?\n",
    "What do you notice? What does this tell you about the difference in application of the  𝑡  and  𝑧  statistic?"
   ]
  },
  {
   "cell_type": "code",
   "execution_count": 154,
   "metadata": {},
   "outputs": [],
   "source": [
    "sample = df.sample(10)"
   ]
  },
  {
   "cell_type": "code",
   "execution_count": 159,
   "metadata": {},
   "outputs": [
    {
     "name": "stdout",
     "output_type": "stream",
     "text": [
      "the t statistic is: -4.481860\n",
      "the p-value is: 0.0015283230\n",
      "we reject the null; the true mean population IS NOT 98.6\n"
     ]
    }
   ],
   "source": [
    "#t test\n",
    "\n",
    "ts,ps = stats.ttest_1samp(sample.temperature,98.6)\n",
    "\n",
    "print('the t statistic is: %f'%ts)\n",
    "print('the p-value is: %.10f'%ps)\n",
    "\n",
    "if ps>0.01:\n",
    "    print ('we fail to reject the null; the true mean population IS 98.6')\n",
    "else:\n",
    "    print('we reject the null; the true mean population IS NOT 98.6')"
   ]
  },
  {
   "cell_type": "code",
   "execution_count": 158,
   "metadata": {},
   "outputs": [
    {
     "name": "stdout",
     "output_type": "stream",
     "text": [
      "the z statistic is:-4.481860\n",
      "the p-value is:0.0000073995\n",
      "we reject the null; the true mean population IS NOT 98.6\n"
     ]
    }
   ],
   "source": [
    "#z test\n",
    "\n",
    "s_ztest ,s_pval = stests.ztest(sample.temperature, x2=None, value=98.6)\n",
    "\n",
    "print('the z statistic is:%f'%s_ztest)\n",
    "print('the p-value is:%.10f'%s_pval)\n",
    "\n",
    "if s_pval>0.01:\n",
    "    print ('we fail to reject the null; the true mean population IS 98.6')\n",
    "else:\n",
    "    print('we reject the null; the true mean population IS NOT 98.6')\n"
   ]
  },
  {
   "cell_type": "markdown",
   "metadata": {},
   "source": [
    "The t-statistic is the correct one to use in this one since n<30. When the sample size is small, the sample standard deviation is no longer a good approximation for the population standard deviation, hence, the z test would not be as accurate. \n"
   ]
  },
  {
   "cell_type": "markdown",
   "metadata": {},
   "source": [
    "**5) At what temperature should we consider someone's temperature to be \"abnormal\"?**\n",
    "As in the previous example, try calculating everything using the boostrap approach, as well as the frequentist approach.\n",
    "Start by computing the margin of error and confidence interval. When calculating the confidence interval, keep in mind that you should use the appropriate formula for one draw, and not N draws."
   ]
  },
  {
   "cell_type": "code",
   "execution_count": 165,
   "metadata": {},
   "outputs": [
    {
     "data": {
      "image/png": "[encoded data removed]",
      "text/plain": [
       "<Figure size 432x288 with 1 Axes>"
      ]
     },
     "metadata": {
      "needs_background": "light"
     },
     "output_type": "display_data"
    },
    {
     "data": {
      "text/plain": [
       "array([98.12230769, 98.37076923])"
      ]
     },
     "execution_count": 165,
     "metadata": {},
     "output_type": "execute_result"
    }
   ],
   "source": [
    "#bootstrapping\n",
    "\n",
    "temp_replicates=np.empty(10000)\n",
    "\n",
    "for i in range(10000):\n",
    "    temp_replicates[i]=bs_replicate(df.temperature,np.mean)\n",
    "\n",
    "_=plt.hist(temp_replicates, bins=30)\n",
    "plt.show()\n",
    "\n",
    "np.percentile(bs_replicates, [2.5,97.5])\n"
   ]
  },
  {
   "cell_type": "code",
   "execution_count": 226,
   "metadata": {},
   "outputs": [
    {
     "name": "stdout",
     "output_type": "stream",
     "text": [
      "In a 95% confidence interval, our margin of error is: 0.125551\n",
      "95% confidence interval:(98.123680,98.374782)\n"
     ]
    }
   ],
   "source": [
    "avg = np.mean(df.temperature)\n",
    "std=np.std(df.temperature)\n",
    " \n",
    "moe=(1.96*std)/(len(df)**.5)\n",
    "\n",
    "upper=avg-moe\n",
    "lower=avg+moe\n",
    "\n",
    "print('In a 95%'+' confidence interval, our margin of error is: %f'%moe)\n",
    "print('95%'+' confidence interval:(%f,%f)'%(upper,lower))\n"
   ]
  },
  {
   "cell_type": "markdown",
   "metadata": {},
   "source": [
    "Any temperature that lies oustide our 95% confidence interval of (98.12,98.37) can be considered 'abnormal'."
   ]
  },
  {
   "cell_type": "markdown",
   "metadata": {},
   "source": [
    "**6) Is there a significant difference between males and females in normal temperature?**\n",
    "What testing approach did you use and why?\n",
    "Write a story with your conclusion in the context of the original problem."
   ]
  },
  {
   "cell_type": "markdown",
   "metadata": {},
   "source": [
    "null hypothesis: there is no difference between the normal temperature of males and females\n"
   ]
  },
  {
   "cell_type": "markdown",
   "metadata": {},
   "source": [
    "alternative hypothesis: there is a difference between the normal temperature of males and females"
   ]
  },
  {
   "cell_type": "code",
   "execution_count": 321,
   "metadata": {},
   "outputs": [
    {
     "name": "stdout",
     "output_type": "stream",
     "text": [
      "tstat: 2.303220\n",
      "We reject the null; there is a difference between the average body temperature of males and females\n"
     ]
    }
   ],
   "source": [
    "fem = df[df['gender']=='F'].temperature\n",
    "male = df[df['gender']=='M'].temperature\n",
    "\n",
    "avg_f=np.mean(fem)\n",
    "avg_m=np.mean(male)\n",
    "avg_diff=avg_f-avg_m\n",
    "\n",
    "sd_f=np.std(fem)\n",
    "sd_m=np.std(male)\n",
    "sd_w=(((sd_f**2/(len(fem)))+(sd_m**2/(len(male))))**.5)\n",
    "\n",
    "t_stat=(avg_diff)/sd_w\n",
    "\n",
    "#critical value for n=130, p=0.05\n",
    "cv=1.96\n",
    "\n",
    "print('tstat: %f'%t_stat)\n",
    "\n",
    "if abs(t_stat)<=cv:\n",
    "    print('We fail to reject the null')\n",
    "else:\n",
    "    print ('We reject the null; there is a difference between the average body temperature of males and females')\n",
    "\n",
    "    "
   ]
  },
  {
   "cell_type": "code",
   "execution_count": 322,
   "metadata": {},
   "outputs": [
    {
     "name": "stdout",
     "output_type": "stream",
     "text": [
      "95% confidence interval: (0.163654,0.414807)\n",
      "We reject the null; there is a difference between the average body temperature of males and females\n"
     ]
    }
   ],
   "source": [
    "#another way to check is to see if 0 is within the 95% confidence interval\n",
    "#of the difference between both means\n",
    "\n",
    "upper1=avg_diff+sd_w\n",
    "lower1=avg_diff-sd_w\n",
    "\n",
    "print('95% '+ 'confidence interval: (%f,%f)'%(lower1,upper1))\n",
    "\n",
    "if lower1<=0 and upper1>0:\n",
    "    print('We fail to reject the null')\n",
    "else:\n",
    "    print ('We reject the null; there is a difference between the average body temperature of males and females')\n",
    "\n",
    "    "
   ]
  },
  {
   "cell_type": "markdown",
   "metadata": {},
   "source": [
    "6) Is there a significant difference between males and females in normal temperature? What testing approach did you use and why? Write a story with your conclusion in the context of the original problem."
   ]
  },
  {
   "cell_type": "markdown",
   "metadata": {},
   "source": [
    "Yes, according to the two sided t test ran above, we conclude that there is a significant difference between the two groups. This is important to note because this means having a this concept of a \"normal human body temperature\" is problematic since this should depend on one's gender,  and most likely along with their age (normal temperature for children vs. adults), and many more. Furthermore, the true normal human body temperature is not 98.6. By conducting this study with 130 random individuals, we see that it's actually much lower. "
   ]
  }
 ],
 "metadata": {
  "kernelspec": {
   "display_name": "Python 3",
   "language": "python",
   "name": "python3"
  },
  "language_info": {
   "codemirror_mode": {
    "name": "ipython",
    "version": 3
   },
   "file_extension": ".py",
   "mimetype": "text/x-python",
   "name": "python",
   "nbconvert_exporter": "python",
   "pygments_lexer": "ipython3",
   "version": "3.7.1"
  }
 },
 "nbformat": 4,
 "nbformat_minor": 1
}
